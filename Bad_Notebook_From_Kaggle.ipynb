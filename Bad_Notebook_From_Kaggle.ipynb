{
 "cells": [
  {
   "cell_type": "markdown",
   "metadata": {},
   "source": [
    "## Code from Kaggle\n",
    "Code taken from : https://www.kaggle.com/code/ellispark/genre-predictor"
   ]
  },
  {
   "cell_type": "code",
   "execution_count": 19,
   "metadata": {},
   "outputs": [
    {
     "name": "stdout",
     "output_type": "stream",
     "text": [
      "0.9987368421052631\n"
     ]
    }
   ],
   "source": [
    "import pandas as pd\n",
    "from sklearn.tree import DecisionTreeClassifier\n",
    "from sklearn.model_selection import train_test_split\n",
    "from sklearn.metrics import accuracy_score\n",
    "\n",
    "# Clean Data\n",
    "music_data = pd.read_csv('dataset.csv')\n",
    "music_data.dropna(inplace=True)\n",
    "music_data.drop_duplicates(inplace=True)\n",
    "\n",
    "X = music_data.drop(columns = [\"track_id\", \"artists\", \"album_name\", \"track_name\", \"track_genre\"])\n",
    "y = music_data[\"track_genre\"]\n",
    "\n",
    "X_train, X_test, y_train, y_test = train_test_split(X, y, test_size = 0.5)\n",
    "model = DecisionTreeClassifier()\n",
    "model.fit(X_train, y_train)\n",
    "predictions = model.predict(X_test)\n",
    "score = accuracy_score(y_test, predictions)\n",
    "print(score)"
   ]
  },
  {
   "cell_type": "markdown",
   "metadata": {},
   "source": [
    "Very high accuracy!! weird...\n",
    "\n",
    "## Fatal Flaw:\n",
    "didn't remove an unnamed column with indexes. the data is orgenaizd in the dataset and therefore the tracks indexes work like a Look up table.\n",
    "\n",
    "\n",
    "## Fixed Version:"
   ]
  },
  {
   "cell_type": "code",
   "execution_count": 21,
   "metadata": {},
   "outputs": [
    {
     "name": "stdout",
     "output_type": "stream",
     "text": [
      "0.21280701754385964\n"
     ]
    }
   ],
   "source": [
    "import pandas as pd\n",
    "from sklearn.tree import DecisionTreeClassifier\n",
    "from sklearn.model_selection import train_test_split\n",
    "from sklearn.metrics import accuracy_score\n",
    "\n",
    "# Clean Data\n",
    "music_data = pd.read_csv('dataset.csv')\n",
    "music_data.dropna(inplace=True)\n",
    "music_data.drop_duplicates(inplace=True)\n",
    "\n",
    "# dropped another ID column\n",
    "X = music_data.drop(columns = [\"Unnamed: 0\",\"track_id\", \"artists\", \"album_name\", \"track_name\", \"track_genre\"])\n",
    "y = music_data[\"track_genre\"]\n",
    "\n",
    "X_train, X_test, y_train, y_test = train_test_split(X, y, test_size = 0.5)\n",
    "model = DecisionTreeClassifier()\n",
    "model.fit(X_train, y_train)\n",
    "predictions = model.predict(X_test)\n",
    "score = accuracy_score(y_test, predictions)\n",
    "print(score)"
   ]
  },
  {
   "cell_type": "markdown",
   "metadata": {},
   "source": [
    "Now the accuracy seem normal.  \n",
    "Our model is better."
   ]
  },
  {
   "cell_type": "code",
   "execution_count": null,
   "metadata": {},
   "outputs": [],
   "source": []
  }
 ],
 "metadata": {
  "kernelspec": {
   "display_name": "Python 3",
   "language": "python",
   "name": "python3"
  },
  "language_info": {
   "codemirror_mode": {
    "name": "ipython",
    "version": 3
   },
   "file_extension": ".py",
   "mimetype": "text/x-python",
   "name": "python",
   "nbconvert_exporter": "python",
   "pygments_lexer": "ipython3",
   "version": "3.8.5"
  }
 },
 "nbformat": 4,
 "nbformat_minor": 4
}
