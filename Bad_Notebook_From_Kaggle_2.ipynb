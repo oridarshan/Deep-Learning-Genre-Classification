{
 "cells": [
  {
   "cell_type": "markdown",
   "metadata": {},
   "source": [
    "## Code from Kaggle\n",
    "Code taken from : https://www.kaggle.com/code/ceceliabichette/notebook2494069288"
   ]
  },
  {
   "cell_type": "code",
   "execution_count": 23,
   "metadata": {},
   "outputs": [
    {
     "name": "stdout",
     "output_type": "stream",
     "text": [
      "0.7977412280701754\n"
     ]
    }
   ],
   "source": [
    "import pandas as pd\n",
    "from sklearn.tree import DecisionTreeClassifier\n",
    "from sklearn.model_selection import train_test_split\n",
    "from sklearn.metrics import accuracy_score\n",
    "\n",
    "data = pd.read_csv('dataset.csv');\n",
    "data.drop_duplicates(inplace = True)\n",
    "data.dropna(inplace = True)\n",
    "\n",
    "X = data.drop(columns = [\"Unnamed: 0\",\"track_id\", \"artists\", \"album_name\", \"track_name\", \"track_genre\"])\n",
    "y = data[\"track_genre\"]\n",
    "\n",
    "for x in X.index:\n",
    "    if X.loc[x, \"explicit\"] == \"False\" :\n",
    "        X.loc[x, \"explicit\"] = 0\n",
    "    elif X.loc[x, \"explicit\"] == \"True\" :\n",
    "        X.loc[x, \"explicit\"] = 1\n",
    "        \n",
    "X_train, X_test, y_train, y_test = train_test_split(X, y, test_size = 0.4)\n",
    "\n",
    "model = DecisionTreeClassifier()\n",
    "model.fit(X, y)\n",
    "\n",
    "\n",
    "predictions = model.predict(X_test)\n",
    "score = accuracy_score(y_test, predictions)\n",
    "print(score)"
   ]
  },
  {
   "cell_type": "markdown",
   "metadata": {},
   "source": [
    "Very high accuracy!! weird...\n",
    "\n",
    "## Fatal Flaw:\n",
    "The model was trained on X instead of X_train, leaking the test data to the model!\n",
    "\n",
    "## Fixed Version:"
   ]
  },
  {
   "cell_type": "code",
   "execution_count": 25,
   "metadata": {},
   "outputs": [
    {
     "name": "stdout",
     "output_type": "stream",
     "text": [
      "0.21407894736842106\n"
     ]
    }
   ],
   "source": [
    "import pandas as pd\n",
    "from sklearn.tree import DecisionTreeClassifier\n",
    "from sklearn.model_selection import train_test_split\n",
    "from sklearn.metrics import accuracy_score\n",
    "\n",
    "data = pd.read_csv('dataset.csv');\n",
    "data.drop_duplicates(inplace = True)\n",
    "data.dropna(inplace = True)\n",
    "\n",
    "X = data.drop(columns = [\"Unnamed: 0\",\"track_id\", \"artists\", \"album_name\", \"track_name\", \"track_genre\"])\n",
    "y = data[\"track_genre\"]\n",
    "\n",
    "for x in X.index:\n",
    "    if X.loc[x, \"explicit\"] == \"False\" :\n",
    "        X.loc[x, \"explicit\"] = 0\n",
    "    elif X.loc[x, \"explicit\"] == \"True\" :\n",
    "        X.loc[x, \"explicit\"] = 1\n",
    "        \n",
    "X_train, X_test, y_train, y_test = train_test_split(X, y, test_size = 0.4)\n",
    "\n",
    "model = DecisionTreeClassifier()\n",
    "# fix test leakage\n",
    "model.fit(X_train, y_train)\n",
    "\n",
    "\n",
    "predictions = model.predict(X_test)\n",
    "score = accuracy_score(y_test, predictions)\n",
    "print(score)"
   ]
  },
  {
   "cell_type": "markdown",
   "metadata": {},
   "source": [
    "Now the accuracy seem normal.  \n",
    "Our model is better."
   ]
  }
 ],
 "metadata": {
  "kernelspec": {
   "display_name": "Python 3",
   "language": "python",
   "name": "python3"
  },
  "language_info": {
   "codemirror_mode": {
    "name": "ipython",
    "version": 3
   },
   "file_extension": ".py",
   "mimetype": "text/x-python",
   "name": "python",
   "nbconvert_exporter": "python",
   "pygments_lexer": "ipython3",
   "version": "3.8.5"
  }
 },
 "nbformat": 4,
 "nbformat_minor": 4
}
